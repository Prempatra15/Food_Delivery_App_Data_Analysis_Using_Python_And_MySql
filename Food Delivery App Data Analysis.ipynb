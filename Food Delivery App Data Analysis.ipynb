{
 "cells": [
  {
   "cell_type": "markdown",
   "id": "3fe67a7c",
   "metadata": {},
   "source": [
    "#### Import Libraries "
   ]
  },
  {
   "cell_type": "code",
   "execution_count": 1,
   "id": "61668768",
   "metadata": {},
   "outputs": [],
   "source": [
    "import pandas as pd\n",
    "import numpy as np\n",
    "import warnings\n",
    "warnings.filterwarnings(\"ignore\")"
   ]
  },
  {
   "cell_type": "markdown",
   "id": "5efe7108",
   "metadata": {},
   "source": [
    "#### Reading Dataset"
   ]
  },
  {
   "cell_type": "code",
   "execution_count": 2,
   "id": "1b58659d",
   "metadata": {},
   "outputs": [
    {
     "data": {
      "text/html": [
       "<div>\n",
       "<style scoped>\n",
       "    .dataframe tbody tr th:only-of-type {\n",
       "        vertical-align: middle;\n",
       "    }\n",
       "\n",
       "    .dataframe tbody tr th {\n",
       "        vertical-align: top;\n",
       "    }\n",
       "\n",
       "    .dataframe thead th {\n",
       "        text-align: right;\n",
       "    }\n",
       "</style>\n",
       "<table border=\"1\" class=\"dataframe\">\n",
       "  <thead>\n",
       "    <tr style=\"text-align: right;\">\n",
       "      <th></th>\n",
       "      <th>address</th>\n",
       "      <th>name</th>\n",
       "      <th>online_order</th>\n",
       "      <th>book_table</th>\n",
       "      <th>rate</th>\n",
       "      <th>votes</th>\n",
       "      <th>phone</th>\n",
       "      <th>location</th>\n",
       "      <th>rest_type</th>\n",
       "      <th>dish_liked</th>\n",
       "      <th>cuisines</th>\n",
       "      <th>approx_cost(for two people)</th>\n",
       "      <th>listed_in(type)</th>\n",
       "    </tr>\n",
       "  </thead>\n",
       "  <tbody>\n",
       "    <tr>\n",
       "      <th>0</th>\n",
       "      <td>942, 21st Main Road, 2nd Stage, Banashankari, ...</td>\n",
       "      <td>Jalsa</td>\n",
       "      <td>Yes</td>\n",
       "      <td>Yes</td>\n",
       "      <td>4.1/5</td>\n",
       "      <td>775</td>\n",
       "      <td>080 42297555\\r\\n+91 9743772233</td>\n",
       "      <td>Banashankari</td>\n",
       "      <td>Casual Dining</td>\n",
       "      <td>Pasta, Lunch Buffet, Masala Papad, Paneer Laja...</td>\n",
       "      <td>North Indian, Mughlai, Chinese</td>\n",
       "      <td>800</td>\n",
       "      <td>Buffet</td>\n",
       "    </tr>\n",
       "    <tr>\n",
       "      <th>1</th>\n",
       "      <td>2nd Floor, 80 Feet Road, Near Big Bazaar, 6th ...</td>\n",
       "      <td>Spice Elephant</td>\n",
       "      <td>Yes</td>\n",
       "      <td>No</td>\n",
       "      <td>4.1/5</td>\n",
       "      <td>787</td>\n",
       "      <td>080 41714161</td>\n",
       "      <td>Banashankari</td>\n",
       "      <td>Casual Dining</td>\n",
       "      <td>Momos, Lunch Buffet, Chocolate Nirvana, Thai G...</td>\n",
       "      <td>Chinese, North Indian, Thai</td>\n",
       "      <td>800</td>\n",
       "      <td>Buffet</td>\n",
       "    </tr>\n",
       "    <tr>\n",
       "      <th>2</th>\n",
       "      <td>1112, Next to KIMS Medical College, 17th Cross...</td>\n",
       "      <td>San Churro Cafe</td>\n",
       "      <td>Yes</td>\n",
       "      <td>No</td>\n",
       "      <td>3.8/5</td>\n",
       "      <td>918</td>\n",
       "      <td>+91 9663487993</td>\n",
       "      <td>Banashankari</td>\n",
       "      <td>Cafe, Casual Dining</td>\n",
       "      <td>Churros, Cannelloni, Minestrone Soup, Hot Choc...</td>\n",
       "      <td>Cafe, Mexican, Italian</td>\n",
       "      <td>800</td>\n",
       "      <td>Buffet</td>\n",
       "    </tr>\n",
       "    <tr>\n",
       "      <th>3</th>\n",
       "      <td>1st Floor, Annakuteera, 3rd Stage, Banashankar...</td>\n",
       "      <td>Addhuri Udupi Bhojana</td>\n",
       "      <td>No</td>\n",
       "      <td>No</td>\n",
       "      <td>3.7/5</td>\n",
       "      <td>88</td>\n",
       "      <td>+91 9620009302</td>\n",
       "      <td>Banashankari</td>\n",
       "      <td>Quick Bites</td>\n",
       "      <td>Masala Dosa</td>\n",
       "      <td>South Indian, North Indian</td>\n",
       "      <td>300</td>\n",
       "      <td>Buffet</td>\n",
       "    </tr>\n",
       "    <tr>\n",
       "      <th>4</th>\n",
       "      <td>10, 3rd Floor, Lakshmi Associates, Gandhi Baza...</td>\n",
       "      <td>Grand Village</td>\n",
       "      <td>No</td>\n",
       "      <td>No</td>\n",
       "      <td>3.8/5</td>\n",
       "      <td>166</td>\n",
       "      <td>+91 8026612447\\r\\n+91 9901210005</td>\n",
       "      <td>Basavanagudi</td>\n",
       "      <td>Casual Dining</td>\n",
       "      <td>Panipuri, Gol Gappe</td>\n",
       "      <td>North Indian, Rajasthani</td>\n",
       "      <td>600</td>\n",
       "      <td>Buffet</td>\n",
       "    </tr>\n",
       "  </tbody>\n",
       "</table>\n",
       "</div>"
      ],
      "text/plain": [
       "                                             address                   name  \\\n",
       "0  942, 21st Main Road, 2nd Stage, Banashankari, ...                  Jalsa   \n",
       "1  2nd Floor, 80 Feet Road, Near Big Bazaar, 6th ...         Spice Elephant   \n",
       "2  1112, Next to KIMS Medical College, 17th Cross...        San Churro Cafe   \n",
       "3  1st Floor, Annakuteera, 3rd Stage, Banashankar...  Addhuri Udupi Bhojana   \n",
       "4  10, 3rd Floor, Lakshmi Associates, Gandhi Baza...          Grand Village   \n",
       "\n",
       "  online_order book_table   rate votes                             phone  \\\n",
       "0          Yes        Yes  4.1/5   775    080 42297555\\r\\n+91 9743772233   \n",
       "1          Yes         No  4.1/5   787                      080 41714161   \n",
       "2          Yes         No  3.8/5   918                    +91 9663487993   \n",
       "3           No         No  3.7/5    88                    +91 9620009302   \n",
       "4           No         No  3.8/5   166  +91 8026612447\\r\\n+91 9901210005   \n",
       "\n",
       "       location            rest_type  \\\n",
       "0  Banashankari        Casual Dining   \n",
       "1  Banashankari        Casual Dining   \n",
       "2  Banashankari  Cafe, Casual Dining   \n",
       "3  Banashankari          Quick Bites   \n",
       "4  Basavanagudi        Casual Dining   \n",
       "\n",
       "                                          dish_liked  \\\n",
       "0  Pasta, Lunch Buffet, Masala Papad, Paneer Laja...   \n",
       "1  Momos, Lunch Buffet, Chocolate Nirvana, Thai G...   \n",
       "2  Churros, Cannelloni, Minestrone Soup, Hot Choc...   \n",
       "3                                        Masala Dosa   \n",
       "4                                Panipuri, Gol Gappe   \n",
       "\n",
       "                         cuisines approx_cost(for two people) listed_in(type)  \n",
       "0  North Indian, Mughlai, Chinese                         800          Buffet  \n",
       "1     Chinese, North Indian, Thai                         800          Buffet  \n",
       "2          Cafe, Mexican, Italian                         800          Buffet  \n",
       "3      South Indian, North Indian                         300          Buffet  \n",
       "4        North Indian, Rajasthani                         600          Buffet  "
      ]
     },
     "execution_count": 2,
     "metadata": {},
     "output_type": "execute_result"
    }
   ],
   "source": [
    "hotels = pd.read_csv('zomato.csv')\n",
    "hotels.head()"
   ]
  },
  {
   "cell_type": "markdown",
   "id": "babcd329",
   "metadata": {},
   "source": [
    "#### General insights about the data "
   ]
  },
  {
   "cell_type": "code",
   "execution_count": 3,
   "id": "586e4318",
   "metadata": {},
   "outputs": [
    {
     "data": {
      "text/plain": [
       "(56252, 13)"
      ]
     },
     "execution_count": 3,
     "metadata": {},
     "output_type": "execute_result"
    }
   ],
   "source": [
    "# Display the number of rows and columns\n",
    "\n",
    "hotels.shape"
   ]
  },
  {
   "cell_type": "markdown",
   "id": "4ae6c5f6",
   "metadata": {},
   "source": [
    "- There are 56252 rows and 13 columns in the dataset."
   ]
  },
  {
   "cell_type": "code",
   "execution_count": 4,
   "id": "4a00839a",
   "metadata": {},
   "outputs": [
    {
     "name": "stdout",
     "output_type": "stream",
     "text": [
      "<class 'pandas.core.frame.DataFrame'>\n",
      "RangeIndex: 56252 entries, 0 to 56251\n",
      "Data columns (total 13 columns):\n",
      " #   Column                       Non-Null Count  Dtype \n",
      "---  ------                       --------------  ----- \n",
      " 0   address                      56235 non-null  object\n",
      " 1   name                         56236 non-null  object\n",
      " 2   online_order                 56233 non-null  object\n",
      " 3   book_table                   56194 non-null  object\n",
      " 4   rate                         48414 non-null  object\n",
      " 5   votes                        56174 non-null  object\n",
      " 6   phone                        54956 non-null  object\n",
      " 7   location                     56126 non-null  object\n",
      " 8   rest_type                    55914 non-null  object\n",
      " 9   dish_liked                   28027 non-null  object\n",
      " 10  cuisines                     56049 non-null  object\n",
      " 11  approx_cost(for two people)  55731 non-null  object\n",
      " 12  listed_in(type)              51642 non-null  object\n",
      "dtypes: object(13)\n",
      "memory usage: 5.6+ MB\n"
     ]
    }
   ],
   "source": [
    "# Dataset Info\n",
    "\n",
    "hotels.info()"
   ]
  },
  {
   "cell_type": "markdown",
   "id": "84bc452b",
   "metadata": {},
   "source": [
    "- It shows all the variables are of string/objective data type.\n",
    "- Out of which Votes and Approx_cost columns are holding integer value. "
   ]
  },
  {
   "cell_type": "code",
   "execution_count": 5,
   "id": "1f1d1458",
   "metadata": {},
   "outputs": [
    {
     "data": {
      "text/plain": [
       "address                           17\n",
       "name                              16\n",
       "online_order                      19\n",
       "book_table                        58\n",
       "rate                            7838\n",
       "votes                             78\n",
       "phone                           1296\n",
       "location                         126\n",
       "rest_type                        338\n",
       "dish_liked                     28225\n",
       "cuisines                         203\n",
       "approx_cost(for two people)      521\n",
       "listed_in(type)                 4610\n",
       "dtype: int64"
      ]
     },
     "execution_count": 5,
     "metadata": {},
     "output_type": "execute_result"
    }
   ],
   "source": [
    "# Check missing values\n",
    "\n",
    "hotels.isnull().sum()"
   ]
  },
  {
   "cell_type": "code",
   "execution_count": 6,
   "id": "b867d4bc",
   "metadata": {},
   "outputs": [
    {
     "data": {
      "text/plain": [
       "address                         0.03\n",
       "name                            0.03\n",
       "online_order                    0.03\n",
       "book_table                      0.10\n",
       "rate                           13.93\n",
       "votes                           0.14\n",
       "phone                           2.30\n",
       "location                        0.22\n",
       "rest_type                       0.60\n",
       "dish_liked                     50.18\n",
       "cuisines                        0.36\n",
       "approx_cost(for two people)     0.93\n",
       "listed_in(type)                 8.20\n",
       "dtype: float64"
      ]
     },
     "execution_count": 6,
     "metadata": {},
     "output_type": "execute_result"
    }
   ],
   "source": [
    "# Calculate the percentage of missing values in each column\n",
    "\n",
    "hotels.isna().mean().round(4) * 100"
   ]
  },
  {
   "cell_type": "markdown",
   "id": "f448d946",
   "metadata": {},
   "source": [
    "- The percentage of missing values for the columns Dish_liked and Rate is ~50% and ~14% respectively."
   ]
  },
  {
   "cell_type": "markdown",
   "id": "edbfba21",
   "metadata": {},
   "source": [
    "#### Data pre-processing "
   ]
  },
  {
   "cell_type": "code",
   "execution_count": 7,
   "id": "8a30bdaf",
   "metadata": {},
   "outputs": [
    {
     "data": {
      "text/plain": [
       "Index(['address', 'name', 'online_order', 'book_table', 'rate', 'votes',\n",
       "       'phone', 'location', 'rest_type', 'dish_liked', 'cuisines',\n",
       "       'approx_cost(for two people)', 'listed_in(type)'],\n",
       "      dtype='object')"
      ]
     },
     "execution_count": 7,
     "metadata": {},
     "output_type": "execute_result"
    }
   ],
   "source": [
    "# Removing Unwanted Columns\n",
    "\n",
    "hotels.columns"
   ]
  },
  {
   "cell_type": "code",
   "execution_count": 8,
   "id": "697dbff4",
   "metadata": {},
   "outputs": [
    {
     "data": {
      "text/html": [
       "<div>\n",
       "<style scoped>\n",
       "    .dataframe tbody tr th:only-of-type {\n",
       "        vertical-align: middle;\n",
       "    }\n",
       "\n",
       "    .dataframe tbody tr th {\n",
       "        vertical-align: top;\n",
       "    }\n",
       "\n",
       "    .dataframe thead th {\n",
       "        text-align: right;\n",
       "    }\n",
       "</style>\n",
       "<table border=\"1\" class=\"dataframe\">\n",
       "  <thead>\n",
       "    <tr style=\"text-align: right;\">\n",
       "      <th></th>\n",
       "      <th>name</th>\n",
       "      <th>online_order</th>\n",
       "      <th>book_table</th>\n",
       "      <th>rate</th>\n",
       "      <th>votes</th>\n",
       "      <th>location</th>\n",
       "      <th>rest_type</th>\n",
       "      <th>dish_liked</th>\n",
       "      <th>cuisines</th>\n",
       "      <th>approx_cost(for two people)</th>\n",
       "      <th>listed_in(type)</th>\n",
       "    </tr>\n",
       "  </thead>\n",
       "  <tbody>\n",
       "    <tr>\n",
       "      <th>0</th>\n",
       "      <td>Jalsa</td>\n",
       "      <td>Yes</td>\n",
       "      <td>Yes</td>\n",
       "      <td>4.1/5</td>\n",
       "      <td>775</td>\n",
       "      <td>Banashankari</td>\n",
       "      <td>Casual Dining</td>\n",
       "      <td>Pasta, Lunch Buffet, Masala Papad, Paneer Laja...</td>\n",
       "      <td>North Indian, Mughlai, Chinese</td>\n",
       "      <td>800</td>\n",
       "      <td>Buffet</td>\n",
       "    </tr>\n",
       "    <tr>\n",
       "      <th>1</th>\n",
       "      <td>Spice Elephant</td>\n",
       "      <td>Yes</td>\n",
       "      <td>No</td>\n",
       "      <td>4.1/5</td>\n",
       "      <td>787</td>\n",
       "      <td>Banashankari</td>\n",
       "      <td>Casual Dining</td>\n",
       "      <td>Momos, Lunch Buffet, Chocolate Nirvana, Thai G...</td>\n",
       "      <td>Chinese, North Indian, Thai</td>\n",
       "      <td>800</td>\n",
       "      <td>Buffet</td>\n",
       "    </tr>\n",
       "    <tr>\n",
       "      <th>2</th>\n",
       "      <td>San Churro Cafe</td>\n",
       "      <td>Yes</td>\n",
       "      <td>No</td>\n",
       "      <td>3.8/5</td>\n",
       "      <td>918</td>\n",
       "      <td>Banashankari</td>\n",
       "      <td>Cafe, Casual Dining</td>\n",
       "      <td>Churros, Cannelloni, Minestrone Soup, Hot Choc...</td>\n",
       "      <td>Cafe, Mexican, Italian</td>\n",
       "      <td>800</td>\n",
       "      <td>Buffet</td>\n",
       "    </tr>\n",
       "    <tr>\n",
       "      <th>3</th>\n",
       "      <td>Addhuri Udupi Bhojana</td>\n",
       "      <td>No</td>\n",
       "      <td>No</td>\n",
       "      <td>3.7/5</td>\n",
       "      <td>88</td>\n",
       "      <td>Banashankari</td>\n",
       "      <td>Quick Bites</td>\n",
       "      <td>Masala Dosa</td>\n",
       "      <td>South Indian, North Indian</td>\n",
       "      <td>300</td>\n",
       "      <td>Buffet</td>\n",
       "    </tr>\n",
       "    <tr>\n",
       "      <th>4</th>\n",
       "      <td>Grand Village</td>\n",
       "      <td>No</td>\n",
       "      <td>No</td>\n",
       "      <td>3.8/5</td>\n",
       "      <td>166</td>\n",
       "      <td>Basavanagudi</td>\n",
       "      <td>Casual Dining</td>\n",
       "      <td>Panipuri, Gol Gappe</td>\n",
       "      <td>North Indian, Rajasthani</td>\n",
       "      <td>600</td>\n",
       "      <td>Buffet</td>\n",
       "    </tr>\n",
       "  </tbody>\n",
       "</table>\n",
       "</div>"
      ],
      "text/plain": [
       "                    name online_order book_table   rate votes      location  \\\n",
       "0                  Jalsa          Yes        Yes  4.1/5   775  Banashankari   \n",
       "1         Spice Elephant          Yes         No  4.1/5   787  Banashankari   \n",
       "2        San Churro Cafe          Yes         No  3.8/5   918  Banashankari   \n",
       "3  Addhuri Udupi Bhojana           No         No  3.7/5    88  Banashankari   \n",
       "4          Grand Village           No         No  3.8/5   166  Basavanagudi   \n",
       "\n",
       "             rest_type                                         dish_liked  \\\n",
       "0        Casual Dining  Pasta, Lunch Buffet, Masala Papad, Paneer Laja...   \n",
       "1        Casual Dining  Momos, Lunch Buffet, Chocolate Nirvana, Thai G...   \n",
       "2  Cafe, Casual Dining  Churros, Cannelloni, Minestrone Soup, Hot Choc...   \n",
       "3          Quick Bites                                        Masala Dosa   \n",
       "4        Casual Dining                                Panipuri, Gol Gappe   \n",
       "\n",
       "                         cuisines approx_cost(for two people) listed_in(type)  \n",
       "0  North Indian, Mughlai, Chinese                         800          Buffet  \n",
       "1     Chinese, North Indian, Thai                         800          Buffet  \n",
       "2          Cafe, Mexican, Italian                         800          Buffet  \n",
       "3      South Indian, North Indian                         300          Buffet  \n",
       "4        North Indian, Rajasthani                         600          Buffet  "
      ]
     },
     "execution_count": 8,
     "metadata": {},
     "output_type": "execute_result"
    }
   ],
   "source": [
    "hotels.drop(['address','phone'],axis=1,inplace=True)\n",
    "hotels.head()"
   ]
  },
  {
   "cell_type": "code",
   "execution_count": 9,
   "id": "784742e4",
   "metadata": {
    "scrolled": true
   },
   "outputs": [
    {
     "data": {
      "text/html": [
       "<div>\n",
       "<style scoped>\n",
       "    .dataframe tbody tr th:only-of-type {\n",
       "        vertical-align: middle;\n",
       "    }\n",
       "\n",
       "    .dataframe tbody tr th {\n",
       "        vertical-align: top;\n",
       "    }\n",
       "\n",
       "    .dataframe thead th {\n",
       "        text-align: right;\n",
       "    }\n",
       "</style>\n",
       "<table border=\"1\" class=\"dataframe\">\n",
       "  <thead>\n",
       "    <tr style=\"text-align: right;\">\n",
       "      <th></th>\n",
       "      <th>Name</th>\n",
       "      <th>Online_Order</th>\n",
       "      <th>Book_Table</th>\n",
       "      <th>Rating</th>\n",
       "      <th>Votes</th>\n",
       "      <th>Location</th>\n",
       "      <th>Rest_Type</th>\n",
       "      <th>Dish_Liked</th>\n",
       "      <th>Cuisines</th>\n",
       "      <th>Approx_Cost</th>\n",
       "      <th>Type</th>\n",
       "    </tr>\n",
       "  </thead>\n",
       "  <tbody>\n",
       "    <tr>\n",
       "      <th>0</th>\n",
       "      <td>Jalsa</td>\n",
       "      <td>Yes</td>\n",
       "      <td>Yes</td>\n",
       "      <td>4.1/5</td>\n",
       "      <td>775</td>\n",
       "      <td>Banashankari</td>\n",
       "      <td>Casual Dining</td>\n",
       "      <td>Pasta, Lunch Buffet, Masala Papad, Paneer Laja...</td>\n",
       "      <td>North Indian, Mughlai, Chinese</td>\n",
       "      <td>800</td>\n",
       "      <td>Buffet</td>\n",
       "    </tr>\n",
       "    <tr>\n",
       "      <th>1</th>\n",
       "      <td>Spice Elephant</td>\n",
       "      <td>Yes</td>\n",
       "      <td>No</td>\n",
       "      <td>4.1/5</td>\n",
       "      <td>787</td>\n",
       "      <td>Banashankari</td>\n",
       "      <td>Casual Dining</td>\n",
       "      <td>Momos, Lunch Buffet, Chocolate Nirvana, Thai G...</td>\n",
       "      <td>Chinese, North Indian, Thai</td>\n",
       "      <td>800</td>\n",
       "      <td>Buffet</td>\n",
       "    </tr>\n",
       "    <tr>\n",
       "      <th>2</th>\n",
       "      <td>San Churro Cafe</td>\n",
       "      <td>Yes</td>\n",
       "      <td>No</td>\n",
       "      <td>3.8/5</td>\n",
       "      <td>918</td>\n",
       "      <td>Banashankari</td>\n",
       "      <td>Cafe, Casual Dining</td>\n",
       "      <td>Churros, Cannelloni, Minestrone Soup, Hot Choc...</td>\n",
       "      <td>Cafe, Mexican, Italian</td>\n",
       "      <td>800</td>\n",
       "      <td>Buffet</td>\n",
       "    </tr>\n",
       "    <tr>\n",
       "      <th>3</th>\n",
       "      <td>Addhuri Udupi Bhojana</td>\n",
       "      <td>No</td>\n",
       "      <td>No</td>\n",
       "      <td>3.7/5</td>\n",
       "      <td>88</td>\n",
       "      <td>Banashankari</td>\n",
       "      <td>Quick Bites</td>\n",
       "      <td>Masala Dosa</td>\n",
       "      <td>South Indian, North Indian</td>\n",
       "      <td>300</td>\n",
       "      <td>Buffet</td>\n",
       "    </tr>\n",
       "    <tr>\n",
       "      <th>4</th>\n",
       "      <td>Grand Village</td>\n",
       "      <td>No</td>\n",
       "      <td>No</td>\n",
       "      <td>3.8/5</td>\n",
       "      <td>166</td>\n",
       "      <td>Basavanagudi</td>\n",
       "      <td>Casual Dining</td>\n",
       "      <td>Panipuri, Gol Gappe</td>\n",
       "      <td>North Indian, Rajasthani</td>\n",
       "      <td>600</td>\n",
       "      <td>Buffet</td>\n",
       "    </tr>\n",
       "  </tbody>\n",
       "</table>\n",
       "</div>"
      ],
      "text/plain": [
       "                    Name Online_Order Book_Table Rating Votes      Location  \\\n",
       "0                  Jalsa          Yes        Yes  4.1/5   775  Banashankari   \n",
       "1         Spice Elephant          Yes         No  4.1/5   787  Banashankari   \n",
       "2        San Churro Cafe          Yes         No  3.8/5   918  Banashankari   \n",
       "3  Addhuri Udupi Bhojana           No         No  3.7/5    88  Banashankari   \n",
       "4          Grand Village           No         No  3.8/5   166  Basavanagudi   \n",
       "\n",
       "             Rest_Type                                         Dish_Liked  \\\n",
       "0        Casual Dining  Pasta, Lunch Buffet, Masala Papad, Paneer Laja...   \n",
       "1        Casual Dining  Momos, Lunch Buffet, Chocolate Nirvana, Thai G...   \n",
       "2  Cafe, Casual Dining  Churros, Cannelloni, Minestrone Soup, Hot Choc...   \n",
       "3          Quick Bites                                        Masala Dosa   \n",
       "4        Casual Dining                                Panipuri, Gol Gappe   \n",
       "\n",
       "                         Cuisines Approx_Cost    Type  \n",
       "0  North Indian, Mughlai, Chinese         800  Buffet  \n",
       "1     Chinese, North Indian, Thai         800  Buffet  \n",
       "2          Cafe, Mexican, Italian         800  Buffet  \n",
       "3      South Indian, North Indian         300  Buffet  \n",
       "4        North Indian, Rajasthani         600  Buffet  "
      ]
     },
     "execution_count": 9,
     "metadata": {},
     "output_type": "execute_result"
    }
   ],
   "source": [
    "# Renaming and Selecting Columns in a Dataset\n",
    "\n",
    "hotels.rename(columns = {'name':'Name', 'online_order':'Online_Order', 'book_table':'Book_Table', 'rate':'Rating', 'votes':'Votes', 'location':'Location', 'rest_type':'Rest_Type', 'dish_liked':'Dish_Liked', 'cuisines':'Cuisines', 'approx_cost(for two people)':'Approx_Cost', 'listed_in(type)':'Type'},inplace=True)\n",
    "hotels.head()"
   ]
  },
  {
   "cell_type": "code",
   "execution_count": 10,
   "id": "f2a77e78",
   "metadata": {},
   "outputs": [],
   "source": [
    "# Delete null values of Name column as name is the primary identifier of the dataset\n",
    "\n",
    "hotels.dropna(subset=['Name'],axis=0,inplace=True)\n",
    "\n",
    "# Replace null values of online order with NA\n",
    "\n",
    "hotels['Online_Order'].fillna('NA',inplace=True)\n",
    "\n",
    "# Replace null values of book_table with NA\n",
    "\n",
    "hotels['Book_Table'].fillna('NA',inplace=True)\n",
    "\n",
    "# Replace null values of location to NA\n",
    "\n",
    "hotels['Location'].fillna('NA',inplace=True)\n",
    "\n",
    "# Replace null values of rest_type to NA\n",
    "\n",
    "hotels['Rest_Type'].fillna('NA',inplace=True)\n",
    "\n",
    "# Replace null values of dishliked to NA\n",
    "\n",
    "hotels['Dish_Liked'].fillna('NA',inplace=True)\n",
    "\n",
    "# Replace null values of cuisines to NA\n",
    "\n",
    "hotels['Cuisines'].fillna('NA',inplace=True)\n",
    "\n",
    "# Replace null values of type to NA\n",
    "\n",
    "hotels['Type'].fillna('NA',inplace=True)\n",
    "\n",
    "# Replace null values of rating to zero as it is a numerical datatype\n",
    "\n",
    "hotels['Rating'].fillna(0,inplace=True)"
   ]
  },
  {
   "cell_type": "code",
   "execution_count": 11,
   "id": "fc869b7a",
   "metadata": {},
   "outputs": [],
   "source": [
    "# Convert \"Votes\" and \"Approx_Cost\" columns to numeric with NaN for non-numeric values\n",
    "\n",
    "hotels['Votes'] = pd.to_numeric(hotels['Votes'], errors='coerce')\n",
    "hotels['Approx_Cost'] = pd.to_numeric(hotels['Approx_Cost'], errors='coerce')"
   ]
  },
  {
   "cell_type": "code",
   "execution_count": 12,
   "id": "942500f7",
   "metadata": {},
   "outputs": [],
   "source": [
    "# Remove rows with missing values in the \"Votes\" and \"Approx_Cost\" columns\n",
    "\n",
    "hotels = hotels.dropna(subset=['Votes', 'Approx_Cost'])"
   ]
  },
  {
   "cell_type": "code",
   "execution_count": 13,
   "id": "9aad8892",
   "metadata": {},
   "outputs": [
    {
     "data": {
      "text/plain": [
       "Name            0\n",
       "Online_Order    0\n",
       "Book_Table      0\n",
       "Rating          0\n",
       "Votes           0\n",
       "Location        0\n",
       "Rest_Type       0\n",
       "Dish_Liked      0\n",
       "Cuisines        0\n",
       "Approx_Cost     0\n",
       "Type            0\n",
       "dtype: int64"
      ]
     },
     "execution_count": 13,
     "metadata": {},
     "output_type": "execute_result"
    }
   ],
   "source": [
    "hotels.isnull().sum()"
   ]
  },
  {
   "cell_type": "code",
   "execution_count": 14,
   "id": "24900330",
   "metadata": {},
   "outputs": [],
   "source": [
    "# Convert the columns to integers\n",
    "\n",
    "hotels['Votes'] = hotels['Votes'].astype(np.int64)\n",
    "hotels['Approx_Cost'] = hotels['Approx_Cost'].astype(np.int64)"
   ]
  },
  {
   "cell_type": "code",
   "execution_count": 15,
   "id": "068b63df",
   "metadata": {},
   "outputs": [
    {
     "name": "stdout",
     "output_type": "stream",
     "text": [
      "<class 'pandas.core.frame.DataFrame'>\n",
      "Int64Index: 44454 entries, 0 to 56248\n",
      "Data columns (total 11 columns):\n",
      " #   Column        Non-Null Count  Dtype \n",
      "---  ------        --------------  ----- \n",
      " 0   Name          44454 non-null  object\n",
      " 1   Online_Order  44454 non-null  object\n",
      " 2   Book_Table    44454 non-null  object\n",
      " 3   Rating        44454 non-null  object\n",
      " 4   Votes         44454 non-null  int64 \n",
      " 5   Location      44454 non-null  object\n",
      " 6   Rest_Type     44454 non-null  object\n",
      " 7   Dish_Liked    44454 non-null  object\n",
      " 8   Cuisines      44454 non-null  object\n",
      " 9   Approx_Cost   44454 non-null  int64 \n",
      " 10  Type          44454 non-null  object\n",
      "dtypes: int64(2), object(9)\n",
      "memory usage: 4.1+ MB\n"
     ]
    }
   ],
   "source": [
    "hotels.info()"
   ]
  },
  {
   "cell_type": "code",
   "execution_count": 16,
   "id": "3ac88d21",
   "metadata": {},
   "outputs": [
    {
     "data": {
      "text/plain": [
       "15420"
      ]
     },
     "execution_count": 16,
     "metadata": {},
     "output_type": "execute_result"
    }
   ],
   "source": [
    "# Identifying Duplicate Data in a Dataset\n",
    "\n",
    "hotels.duplicated().sum()"
   ]
  },
  {
   "cell_type": "code",
   "execution_count": 17,
   "id": "6b42e1b4",
   "metadata": {},
   "outputs": [
    {
     "data": {
      "text/plain": [
       "0"
      ]
     },
     "execution_count": 17,
     "metadata": {},
     "output_type": "execute_result"
    }
   ],
   "source": [
    "# Drop all the duplicate values\n",
    "\n",
    "hotels.drop_duplicates(inplace=True)\n",
    "hotels.duplicated().sum()"
   ]
  },
  {
   "cell_type": "code",
   "execution_count": 18,
   "id": "c6e1b5b4",
   "metadata": {},
   "outputs": [
    {
     "data": {
      "text/plain": [
       "array(['Jalsa', 'Spice Elephant', 'San Churro Cafe', ...,\n",
       "       'Calcutta North Indian Meals', 'Nawabs Empire', 'SeeYa Restaurant'],\n",
       "      dtype=object)"
      ]
     },
     "execution_count": 18,
     "metadata": {},
     "output_type": "execute_result"
    }
   ],
   "source": [
    "hotels['Name'].unique()"
   ]
  },
  {
   "cell_type": "code",
   "execution_count": null,
   "id": "75ec06da",
   "metadata": {},
   "outputs": [],
   "source": [
    "# Removing irrelevant text from columns\n",
    "\n",
    "hotels['Name'] = hotels['Name'].str.replace('RATED|Rated', '')\n",
    "hotels['Online_Order'] = hotels['Online_Order'].str.replace('RATED|Rated', '')\n",
    "hotels['Book_Table'] = hotels['Book_Table'].str.replace('RATED|Rated', '')\n",
    "hotels['Location'] = hotels['Location'].str.replace('RATED|Rated', '')\n",
    "hotels['Rest_Type'] = hotels['Rest_Type'].str.replace('RATED|Rated', '')\n",
    "hotels['Dish_Liked'] = hotels['Dish_Liked'].str.replace('RATED|Rated', '')\n",
    "hotels['Cuisines'] = hotels['Cuisines'].str.replace('RATED|Rated', '')\n",
    "hotels['Type'] = hotels['Type'].str.replace('RATED|Rated', '')"
   ]
  },
  {
   "cell_type": "code",
   "execution_count": null,
   "id": "9e85ff0f",
   "metadata": {},
   "outputs": [],
   "source": [
    "hotels['Online_Order'].unique()"
   ]
  },
  {
   "cell_type": "code",
   "execution_count": null,
   "id": "8658181a",
   "metadata": {},
   "outputs": [],
   "source": [
    "hotels['Rating'].unique()"
   ]
  },
  {
   "cell_type": "code",
   "execution_count": null,
   "id": "a5ec8d2a",
   "metadata": {},
   "outputs": [],
   "source": [
    "# Handle the irrelevant values\n",
    "\n",
    "hotels['Online_Order'] = hotels['Online_Order'].apply(lambda x: 'No' if x not in ['Yes', 'No'] else x)\n",
    "hotels['Rating'] = hotels['Rating'].astype(str)\n",
    "hotels = hotels[~hotels['Rating'].str.contains('[a-zS]')]\n",
    "hotels['Rating'] = hotels['Rating'].replace(['-', 'NEW'], '0')\n",
    "hotels['Rating'] = hotels['Rating'].str.replace('/5', '')"
   ]
  },
  {
   "cell_type": "code",
   "execution_count": null,
   "id": "8c3ce111",
   "metadata": {},
   "outputs": [],
   "source": [
    "hotels['Rating'].unique()"
   ]
  },
  {
   "cell_type": "code",
   "execution_count": null,
   "id": "68cb481f",
   "metadata": {},
   "outputs": [],
   "source": [
    "# Remove the unknown character from the dataset and export it to \"zomatocleaned.csv\"\n",
    "\n",
    "hotels['Name']=hotels['Name'].str.replace('[Ãx][^A-Za-z]+','',regex=True)"
   ]
  },
  {
   "cell_type": "code",
   "execution_count": null,
   "id": "ed01c495",
   "metadata": {},
   "outputs": [],
   "source": [
    "# Export cleaned Dataset to new csv file named \"zomatocleaned.csv\"\n",
    "\n",
    "hotels.to_csv('zomato_cleaned.csv', index=True)"
   ]
  },
  {
   "cell_type": "code",
   "execution_count": null,
   "id": "aae1c713",
   "metadata": {},
   "outputs": [],
   "source": []
  }
 ],
 "metadata": {
  "kernelspec": {
   "display_name": "Python 3 (ipykernel)",
   "language": "python",
   "name": "python3"
  },
  "language_info": {
   "codemirror_mode": {
    "name": "ipython",
    "version": 3
   },
   "file_extension": ".py",
   "mimetype": "text/x-python",
   "name": "python",
   "nbconvert_exporter": "python",
   "pygments_lexer": "ipython3",
   "version": "3.9.7"
  }
 },
 "nbformat": 4,
 "nbformat_minor": 5
}
